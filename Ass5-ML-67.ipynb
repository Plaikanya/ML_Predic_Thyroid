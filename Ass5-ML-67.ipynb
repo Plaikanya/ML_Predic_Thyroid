{
 "cells": [
  {
   "cell_type": "markdown",
   "id": "54e79383-4b63-4512-a267-d13d4e2ea510",
   "metadata": {},
   "source": [
    "# Assignment 5:\n",
    "### รหัสนักศึกษา: 67130701707\n",
    "### ชื่อ-นามสกุล: ปลายกันยา พลายวงษ์\n",
    "### หลักสูตร: SED"
   ]
  },
  {
   "cell_type": "markdown",
   "id": "edfb5156-a29e-4c3f-a9a2-e5bce25b38de",
   "metadata": {},
   "source": [
    "## Imbalanced Data Classification & Model Deployment\n",
    "\n",
    "- Understand the challenges of imbalanced classification.\n",
    "- Train different models with various resampling techniques.\n",
    "- Compare model performance using ROC and PR curves.\n",
    "- Deploy the best-performing model using Streamlit.\n"
   ]
  },
  {
   "cell_type": "markdown",
   "id": "7000bb50-5d91-4888-ae33-c0add964ca05",
   "metadata": {},
   "source": [
    "#### 1. Install Required Libraries\n",
    "\n",
    "Ensure you have the necessary libraries installed:\n",
    "\n",
    "pip install imbalanced-learn scikit-learn matplotlib seaborn streamlit\n"
   ]
  },
  {
   "cell_type": "code",
   "execution_count": 38,
   "id": "55d917ac",
   "metadata": {},
   "outputs": [],
   "source": [
    "import pandas as pd\n",
    "import numpy as np\n",
    "import imblearn\n",
    "from sklearn import datasets\n",
    "import matplotlib.pyplot as plt\n",
    "import seaborn as sns\n",
    "import streamlit as st"
   ]
  },
  {
   "cell_type": "markdown",
   "id": "aee2f45c-3681-4b87-916c-eae00678adec",
   "metadata": {},
   "source": [
    "## **2. Load and Explore the Dataset**  \n",
    "Select a dataset from [`imbalanced-learn datasets`](https://imbalanced-learn.org/stable/datasets/index.html). Example: `fetch_datasets` provides multiple datasets."
   ]
  },
  {
   "cell_type": "code",
   "execution_count": 39,
   "id": "68408aef-869a-40dc-8f7e-732d4de301cf",
   "metadata": {
    "tags": []
   },
   "outputs": [
    {
     "name": "stdout",
     "output_type": "stream",
     "text": [
      "[(np.int64(-1), 2870), (np.int64(1), 293)]\n"
     ]
    }
   ],
   "source": [
    "from collections import Counter\n",
    "from imblearn.datasets import fetch_datasets\n",
    "thyroid = fetch_datasets()['sick_euthyroid']\n",
    "thyroid.data.shape\n",
    "print(sorted(Counter(thyroid.target).items()))"
   ]
  },
  {
   "cell_type": "code",
   "execution_count": 40,
   "id": "e0b1271e",
   "metadata": {},
   "outputs": [
    {
     "data": {
      "text/html": [
       "<div>\n",
       "<style scoped>\n",
       "    .dataframe tbody tr th:only-of-type {\n",
       "        vertical-align: middle;\n",
       "    }\n",
       "\n",
       "    .dataframe tbody tr th {\n",
       "        vertical-align: top;\n",
       "    }\n",
       "\n",
       "    .dataframe thead th {\n",
       "        text-align: right;\n",
       "    }\n",
       "</style>\n",
       "<table border=\"1\" class=\"dataframe\">\n",
       "  <thead>\n",
       "    <tr style=\"text-align: right;\">\n",
       "      <th></th>\n",
       "      <th>0</th>\n",
       "      <th>1</th>\n",
       "      <th>2</th>\n",
       "      <th>3</th>\n",
       "      <th>4</th>\n",
       "      <th>5</th>\n",
       "      <th>6</th>\n",
       "      <th>7</th>\n",
       "      <th>8</th>\n",
       "      <th>9</th>\n",
       "      <th>...</th>\n",
       "      <th>33</th>\n",
       "      <th>34</th>\n",
       "      <th>35</th>\n",
       "      <th>36</th>\n",
       "      <th>37</th>\n",
       "      <th>38</th>\n",
       "      <th>39</th>\n",
       "      <th>40</th>\n",
       "      <th>41</th>\n",
       "      <th>target</th>\n",
       "    </tr>\n",
       "  </thead>\n",
       "  <tbody>\n",
       "    <tr>\n",
       "      <th>0</th>\n",
       "      <td>72.0</td>\n",
       "      <td>0.0</td>\n",
       "      <td>1.0</td>\n",
       "      <td>1.0</td>\n",
       "      <td>0.0</td>\n",
       "      <td>1.0</td>\n",
       "      <td>0.0</td>\n",
       "      <td>1.0</td>\n",
       "      <td>0.0</td>\n",
       "      <td>1.0</td>\n",
       "      <td>...</td>\n",
       "      <td>83.0</td>\n",
       "      <td>0.0</td>\n",
       "      <td>1.0</td>\n",
       "      <td>0.95</td>\n",
       "      <td>0.0</td>\n",
       "      <td>1.0</td>\n",
       "      <td>87.0</td>\n",
       "      <td>1.0</td>\n",
       "      <td>0.0</td>\n",
       "      <td>1</td>\n",
       "    </tr>\n",
       "    <tr>\n",
       "      <th>1</th>\n",
       "      <td>45.0</td>\n",
       "      <td>1.0</td>\n",
       "      <td>0.0</td>\n",
       "      <td>1.0</td>\n",
       "      <td>0.0</td>\n",
       "      <td>1.0</td>\n",
       "      <td>0.0</td>\n",
       "      <td>1.0</td>\n",
       "      <td>0.0</td>\n",
       "      <td>1.0</td>\n",
       "      <td>...</td>\n",
       "      <td>82.0</td>\n",
       "      <td>0.0</td>\n",
       "      <td>1.0</td>\n",
       "      <td>0.73</td>\n",
       "      <td>0.0</td>\n",
       "      <td>1.0</td>\n",
       "      <td>112.0</td>\n",
       "      <td>1.0</td>\n",
       "      <td>0.0</td>\n",
       "      <td>1</td>\n",
       "    </tr>\n",
       "    <tr>\n",
       "      <th>2</th>\n",
       "      <td>64.0</td>\n",
       "      <td>1.0</td>\n",
       "      <td>0.0</td>\n",
       "      <td>1.0</td>\n",
       "      <td>0.0</td>\n",
       "      <td>1.0</td>\n",
       "      <td>0.0</td>\n",
       "      <td>1.0</td>\n",
       "      <td>0.0</td>\n",
       "      <td>1.0</td>\n",
       "      <td>...</td>\n",
       "      <td>101.0</td>\n",
       "      <td>0.0</td>\n",
       "      <td>1.0</td>\n",
       "      <td>0.82</td>\n",
       "      <td>0.0</td>\n",
       "      <td>1.0</td>\n",
       "      <td>123.0</td>\n",
       "      <td>1.0</td>\n",
       "      <td>0.0</td>\n",
       "      <td>1</td>\n",
       "    </tr>\n",
       "    <tr>\n",
       "      <th>3</th>\n",
       "      <td>56.0</td>\n",
       "      <td>0.0</td>\n",
       "      <td>1.0</td>\n",
       "      <td>1.0</td>\n",
       "      <td>0.0</td>\n",
       "      <td>1.0</td>\n",
       "      <td>0.0</td>\n",
       "      <td>1.0</td>\n",
       "      <td>0.0</td>\n",
       "      <td>1.0</td>\n",
       "      <td>...</td>\n",
       "      <td>76.0</td>\n",
       "      <td>0.0</td>\n",
       "      <td>1.0</td>\n",
       "      <td>0.77</td>\n",
       "      <td>0.0</td>\n",
       "      <td>1.0</td>\n",
       "      <td>99.0</td>\n",
       "      <td>1.0</td>\n",
       "      <td>0.0</td>\n",
       "      <td>1</td>\n",
       "    </tr>\n",
       "    <tr>\n",
       "      <th>4</th>\n",
       "      <td>78.0</td>\n",
       "      <td>1.0</td>\n",
       "      <td>0.0</td>\n",
       "      <td>0.0</td>\n",
       "      <td>1.0</td>\n",
       "      <td>1.0</td>\n",
       "      <td>0.0</td>\n",
       "      <td>1.0</td>\n",
       "      <td>0.0</td>\n",
       "      <td>1.0</td>\n",
       "      <td>...</td>\n",
       "      <td>87.0</td>\n",
       "      <td>0.0</td>\n",
       "      <td>1.0</td>\n",
       "      <td>0.95</td>\n",
       "      <td>0.0</td>\n",
       "      <td>1.0</td>\n",
       "      <td>91.0</td>\n",
       "      <td>1.0</td>\n",
       "      <td>0.0</td>\n",
       "      <td>1</td>\n",
       "    </tr>\n",
       "  </tbody>\n",
       "</table>\n",
       "<p>5 rows × 43 columns</p>\n",
       "</div>"
      ],
      "text/plain": [
       "      0    1    2    3    4    5    6    7    8    9  ...     33   34   35  \\\n",
       "0  72.0  0.0  1.0  1.0  0.0  1.0  0.0  1.0  0.0  1.0  ...   83.0  0.0  1.0   \n",
       "1  45.0  1.0  0.0  1.0  0.0  1.0  0.0  1.0  0.0  1.0  ...   82.0  0.0  1.0   \n",
       "2  64.0  1.0  0.0  1.0  0.0  1.0  0.0  1.0  0.0  1.0  ...  101.0  0.0  1.0   \n",
       "3  56.0  0.0  1.0  1.0  0.0  1.0  0.0  1.0  0.0  1.0  ...   76.0  0.0  1.0   \n",
       "4  78.0  1.0  0.0  0.0  1.0  1.0  0.0  1.0  0.0  1.0  ...   87.0  0.0  1.0   \n",
       "\n",
       "     36   37   38     39   40   41  target  \n",
       "0  0.95  0.0  1.0   87.0  1.0  0.0       1  \n",
       "1  0.73  0.0  1.0  112.0  1.0  0.0       1  \n",
       "2  0.82  0.0  1.0  123.0  1.0  0.0       1  \n",
       "3  0.77  0.0  1.0   99.0  1.0  0.0       1  \n",
       "4  0.95  0.0  1.0   91.0  1.0  0.0       1  \n",
       "\n",
       "[5 rows x 43 columns]"
      ]
     },
     "execution_count": 40,
     "metadata": {},
     "output_type": "execute_result"
    }
   ],
   "source": [
    "df = pd.DataFrame(thyroid['data'])\n",
    "df['target'] = thyroid['target']\n",
    "df.head()"
   ]
  },
  {
   "cell_type": "markdown",
   "id": "dfc19be1-f007-442c-a1d1-f18b74ed1005",
   "metadata": {},
   "source": [
    "## **3. Train-Test Split**  "
   ]
  },
  {
   "cell_type": "code",
   "execution_count": 47,
   "id": "77b1943e",
   "metadata": {},
   "outputs": [],
   "source": [
    "X = df.iloc[:, :-1]\n",
    "y = df.iloc[:, -1]"
   ]
  },
  {
   "cell_type": "code",
   "execution_count": 48,
   "id": "e6649e83-5bd1-4e94-a511-655556c8dc44",
   "metadata": {
    "tags": []
   },
   "outputs": [],
   "source": [
    "from sklearn. model_selection import train_test_split\n",
    "X_train , X_test , y_train , y_test = train_test_split (X,y,test_size=0.3)\n"
   ]
  },
  {
   "cell_type": "markdown",
   "id": "c6ff86e6-1f2e-48c8-9c74-e10a2f505f87",
   "metadata": {},
   "source": [
    "## **4. Train Models**  \n",
    "\n",
    "### **4.1 Baseline Model (Logistic Regression)**"
   ]
  },
  {
   "cell_type": "code",
   "execution_count": 49,
   "id": "fbbb2681-ebcb-4c06-b6ff-353e15bdb1b3",
   "metadata": {
    "tags": []
   },
   "outputs": [],
   "source": [
    "from sklearn.linear_model import LogisticRegression\n",
    "from sklearn.metrics import accuracy_score\n"
   ]
  },
  {
   "cell_type": "code",
   "execution_count": 59,
   "id": "c69e02f6",
   "metadata": {},
   "outputs": [
    {
     "name": "stderr",
     "output_type": "stream",
     "text": [
      "c:\\Users\\LENOVO\\AppData\\Local\\Programs\\Python\\Python311\\Lib\\site-packages\\sklearn\\linear_model\\_logistic.py:465: ConvergenceWarning: lbfgs failed to converge (status=1):\n",
      "STOP: TOTAL NO. OF ITERATIONS REACHED LIMIT.\n",
      "\n",
      "Increase the number of iterations (max_iter) or scale the data as shown in:\n",
      "    https://scikit-learn.org/stable/modules/preprocessing.html\n",
      "Please also refer to the documentation for alternative solver options:\n",
      "    https://scikit-learn.org/stable/modules/linear_model.html#logistic-regression\n",
      "  n_iter_i = _check_optimize_result(\n"
     ]
    }
   ],
   "source": [
    "logreg = LogisticRegression()\n",
    "logreg.fit(X_train, y_train)\n",
    "y_pred = logreg.predict(X_test)"
   ]
  },
  {
   "cell_type": "code",
   "execution_count": 60,
   "id": "f8307422",
   "metadata": {},
   "outputs": [
    {
     "name": "stdout",
     "output_type": "stream",
     "text": [
      "              precision    recall  f1-score   support\n",
      "\n",
      "          -1       0.95      0.99      0.97       857\n",
      "           1       0.88      0.55      0.68        92\n",
      "\n",
      "    accuracy                           0.95       949\n",
      "   macro avg       0.92      0.77      0.83       949\n",
      "weighted avg       0.95      0.95      0.94       949\n",
      "\n"
     ]
    }
   ],
   "source": [
    "from sklearn.metrics import classification_report\n",
    "print(classification_report(y_test, y_pred))"
   ]
  },
  {
   "cell_type": "markdown",
   "id": "b48afc9b-77d6-425e-bb65-da3fa7a1ef20",
   "metadata": {},
   "source": [
    "### **4.2 Model with Undersampling (Logistic Regression)**  "
   ]
  },
  {
   "cell_type": "code",
   "execution_count": 54,
   "id": "55ff4b19-5110-483b-b747-fc3d461d9df6",
   "metadata": {
    "tags": []
   },
   "outputs": [
    {
     "name": "stdout",
     "output_type": "stream",
     "text": [
      "[(-1, 293), (1, 293)]\n"
     ]
    }
   ],
   "source": [
    "from imblearn.under_sampling import RandomUnderSampler\n",
    "rus = RandomUnderSampler(random_state=0)\n",
    "X_resampled, y_resampled = rus.fit_resample(X, y)\n",
    "print(sorted(Counter(y_resampled).items()))\n"
   ]
  },
  {
   "cell_type": "code",
   "execution_count": 55,
   "id": "08decb6e",
   "metadata": {},
   "outputs": [
    {
     "name": "stderr",
     "output_type": "stream",
     "text": [
      "c:\\Users\\LENOVO\\AppData\\Local\\Programs\\Python\\Python311\\Lib\\site-packages\\sklearn\\linear_model\\_logistic.py:465: ConvergenceWarning: lbfgs failed to converge (status=1):\n",
      "STOP: TOTAL NO. OF ITERATIONS REACHED LIMIT.\n",
      "\n",
      "Increase the number of iterations (max_iter) or scale the data as shown in:\n",
      "    https://scikit-learn.org/stable/modules/preprocessing.html\n",
      "Please also refer to the documentation for alternative solver options:\n",
      "    https://scikit-learn.org/stable/modules/linear_model.html#logistic-regression\n",
      "  n_iter_i = _check_optimize_result(\n"
     ]
    }
   ],
   "source": [
    "logreg_underfift = LogisticRegression()\n",
    "logreg_underfift .fit(X_resampled, y_resampled)\n",
    "y_underfit = logreg_underfift .predict(X_test)"
   ]
  },
  {
   "cell_type": "code",
   "execution_count": 57,
   "id": "50adb1c2",
   "metadata": {},
   "outputs": [
    {
     "name": "stdout",
     "output_type": "stream",
     "text": [
      "              precision    recall  f1-score   support\n",
      "\n",
      "          -1       0.99      0.88      0.93       857\n",
      "           1       0.45      0.92      0.61        92\n",
      "\n",
      "    accuracy                           0.88       949\n",
      "   macro avg       0.72      0.90      0.77       949\n",
      "weighted avg       0.94      0.88      0.90       949\n",
      "\n"
     ]
    }
   ],
   "source": [
    "print(classification_report(y_test, y_underfit ))"
   ]
  },
  {
   "cell_type": "markdown",
   "id": "214e7597-d1c2-49c9-a955-a3b55583dd78",
   "metadata": {},
   "source": [
    "### **4.3 Model with Oversampling (Logistic Regression)**  "
   ]
  },
  {
   "cell_type": "code",
   "execution_count": null,
   "id": "821c3ea8-d0bd-4e50-8baa-1e981239030a",
   "metadata": {
    "tags": []
   },
   "outputs": [],
   "source": [
    "from imblearn. over_sampling import SMOTE\n",
    "smote = SMOTE( random_state=42)\n",
    "X_train_resampled , y_train_resampled = smote.fit_resample (X_train ,y_train)\n",
    "\n"
   ]
  },
  {
   "cell_type": "code",
   "execution_count": 46,
   "id": "47a085a3",
   "metadata": {},
   "outputs": [
    {
     "name": "stderr",
     "output_type": "stream",
     "text": [
      "c:\\Users\\LENOVO\\AppData\\Local\\Programs\\Python\\Python311\\Lib\\site-packages\\sklearn\\linear_model\\_logistic.py:465: ConvergenceWarning: lbfgs failed to converge (status=1):\n",
      "STOP: TOTAL NO. OF ITERATIONS REACHED LIMIT.\n",
      "\n",
      "Increase the number of iterations (max_iter) or scale the data as shown in:\n",
      "    https://scikit-learn.org/stable/modules/preprocessing.html\n",
      "Please also refer to the documentation for alternative solver options:\n",
      "    https://scikit-learn.org/stable/modules/linear_model.html#logistic-regression\n",
      "  n_iter_i = _check_optimize_result(\n"
     ]
    }
   ],
   "source": [
    "logreg_overfift = LogisticRegression()\n",
    "logreg_overfift.fit(X_train_resampled, y_train_resampled)\n",
    "y_overfit = logreg_overfift.predict(X_test)"
   ]
  },
  {
   "cell_type": "code",
   "execution_count": 61,
   "id": "c296c8d6",
   "metadata": {},
   "outputs": [
    {
     "name": "stdout",
     "output_type": "stream",
     "text": [
      "              precision    recall  f1-score   support\n",
      "\n",
      "          -1       0.90      0.81      0.86       857\n",
      "           1       0.10      0.18      0.13        92\n",
      "\n",
      "    accuracy                           0.75       949\n",
      "   macro avg       0.50      0.50      0.49       949\n",
      "weighted avg       0.82      0.75      0.79       949\n",
      "\n"
     ]
    }
   ],
   "source": [
    "print(classification_report(y_test, y_overfit ))"
   ]
  },
  {
   "cell_type": "markdown",
   "id": "be32d6bf-6c9e-4c78-bb3e-44439a0c8737",
   "metadata": {},
   "source": [
    "### **4.4 Random Forest Model (No Resampling)**  "
   ]
  },
  {
   "cell_type": "code",
   "execution_count": 62,
   "id": "d648bff4-0a22-4b39-8cb4-2e3b3e968cf9",
   "metadata": {
    "tags": []
   },
   "outputs": [],
   "source": [
    "from sklearn.ensemble import RandomForestClassifier\n",
    "rf_model = RandomForestClassifier(n_estimators=100, random_state=42)\n",
    "\n",
    "# ฝึกโมเดล\n",
    "rf_model.fit(X_train, y_train)\n",
    "\n",
    "# ทำนายผลลัพธ์บนชุดทดสอบ\n",
    "y_pred_forest = rf_model.predict(X_test)"
   ]
  },
  {
   "cell_type": "code",
   "execution_count": 63,
   "id": "02f1a425",
   "metadata": {},
   "outputs": [
    {
     "name": "stdout",
     "output_type": "stream",
     "text": [
      "              precision    recall  f1-score   support\n",
      "\n",
      "          -1       0.98      1.00      0.99       857\n",
      "           1       0.97      0.82      0.89        92\n",
      "\n",
      "    accuracy                           0.98       949\n",
      "   macro avg       0.98      0.91      0.94       949\n",
      "weighted avg       0.98      0.98      0.98       949\n",
      "\n"
     ]
    }
   ],
   "source": [
    "print(classification_report(y_test, y_pred_forest ))"
   ]
  },
  {
   "cell_type": "markdown",
   "id": "4c35653e-acec-491f-83a7-f0b5ef32a1c1",
   "metadata": {},
   "source": [
    "## **5. Compare Model Performance**  \n",
    "\n",
    "### **5.1 Plot ROC Curve & ROC-AUC Score**"
   ]
  },
  {
   "cell_type": "code",
   "execution_count": 65,
   "id": "a7c53e95-5473-4ca8-b91f-5288fd0d84a1",
   "metadata": {
    "tags": []
   },
   "outputs": [
    {
     "data": {
      "image/png": "[encoded data removed]",
      "text/plain": [
       "<Figure size 800x600 with 1 Axes>"
      ]
     },
     "metadata": {},
     "output_type": "display_data"
    }
   ],
   "source": [
    "from sklearn.metrics import roc_curve, auc\n",
    "import matplotlib.pyplot as plt\n",
    "\n",
    "models = {\n",
    "    \"Logistic Regression\": logreg,\n",
    "    \"Undersampling (Logistic Regression)\": logreg_underfift,\n",
    "    \"Oversampling (Logistic Regression)\": logreg_overfift,\n",
    "    \"Random Forest\": rf_model\n",
    "}\n",
    "\n",
    "plt.figure(figsize=(8, 6))\n",
    "\n",
    "for name, model in models.items():\n",
    "    y_prob = model.predict_proba(X_test)[:, 1]\n",
    "    fpr, tpr, _ = roc_curve(y_test, y_prob, pos_label=1)\n",
    "    roc_auc = auc(fpr, tpr)\n",
    "    plt.plot(fpr, tpr, label=f'{name} (AUC = {roc_auc:.2f})')\n",
    "\n",
    "plt.plot([0, 1], [0, 1], linestyle=\"--\", color=\"gray\")\n",
    "plt.xlabel(\"False Positive Rate\")\n",
    "plt.ylabel(\"True Positive Rate\")\n",
    "plt.title(\"ROC Curve\")\n",
    "plt.legend()\n",
    "plt.show()\n",
    "\n"
   ]
  },
  {
   "cell_type": "markdown",
   "id": "4f35dd09-ad10-4c7a-86d6-bee0695a15df",
   "metadata": {},
   "source": [
    "### **5.2 Plot PR Curve & PR-AUC Score**  "
   ]
  },
  {
   "cell_type": "code",
   "execution_count": 66,
   "id": "0fc55b5b-0eb7-46cd-8b03-1131765cdcf4",
   "metadata": {
    "tags": []
   },
   "outputs": [
    {
     "data": {
      "image/png": "[encoded data removed]",
      "text/plain": [
       "<Figure size 800x600 with 1 Axes>"
      ]
     },
     "metadata": {},
     "output_type": "display_data"
    }
   ],
   "source": [
    "from sklearn.metrics import precision_recall_curve, average_precision_score\n",
    "\n",
    "plt.figure(figsize=(8, 6))\n",
    "\n",
    "for name, model in models.items():\n",
    "    y_prob = model.predict_proba(X_test)[:, 1]\n",
    "    precision, recall, _ = precision_recall_curve(y_test, y_prob, pos_label=1)\n",
    "    pr_auc = average_precision_score(y_test, y_prob)\n",
    "    plt.plot(recall, precision, label=f'{name} (AP = {pr_auc:.2f})')\n",
    "\n",
    "plt.xlabel(\"Recall\")\n",
    "plt.ylabel(\"Precision\")\n",
    "plt.title(\"Precision-Recall Curve\")\n",
    "plt.legend()\n",
    "plt.show()\n"
   ]
  },
  {
   "cell_type": "markdown",
   "id": "4522f418-0f71-4101-a760-c6ba838fbb04",
   "metadata": {},
   "source": [
    "## **6. Select the Best Model for Deployment**  \n",
    "Choose the best model based on **ROC-AUC and PR-AUC scores**. Assume **oversampling model** performed best.\n",
    "\n",
    "### **6.1 Save the Model**  "
   ]
  },
  {
   "cell_type": "code",
   "execution_count": 67,
   "id": "3d38ad4a-3dd5-4248-b354-53486f970d26",
   "metadata": {
    "tags": []
   },
   "outputs": [
    {
     "data": {
      "text/plain": [
       "['best_model.pkl']"
      ]
     },
     "execution_count": 67,
     "metadata": {},
     "output_type": "execute_result"
    }
   ],
   "source": [
    "import joblib\n",
    "\n",
    "# Save the best model\n",
    "joblib.dump(rf_model, \"best_model.pkl\")"
   ]
  },
  {
   "cell_type": "markdown",
   "id": "a38edbc7-40b5-41a9-9fb9-29184043fb32",
   "metadata": {},
   "source": [
    "## **7. Deploy Model using Streamlit**  \n",
    "\n"
   ]
  },
  {
   "cell_type": "code",
   "execution_count": 70,
   "id": "cde8e8d4-c32c-4d18-8b83-665d4b7ad247",
   "metadata": {
    "tags": []
   },
   "outputs": [
    {
     "name": "stdout",
     "output_type": "stream",
     "text": [
      "Writing app.py\n"
     ]
    }
   ],
   "source": [
    "%%writefile app.py\n",
    "import streamlit as st\n",
    "import joblib\n",
    "import numpy as np\n",
    "\n",
    "# Load model\n",
    "model = joblib.load(\"best_model.pkl\")\n",
    "\n",
    "# Streamlit UI\n",
    "st.title(\"My first ML App (Study on Imbalanced Data Classification by 67130701707 \")\n",
    "\n",
    "# Input fields\n",
    "features = []\n",
    "for i in range(11):  # Adjust based on dataset\n",
    "    value = st.number_input(f\"Feature_{i}\", value=0.0)\n",
    "    features.append(value)\n",
    "\n",
    "# Prediction\n",
    "if st.button(\"Predict\"):\n",
    "    prediction = model.predict([np.array(features)])\n",
    "    st.write(f\"Predicted Class: {prediction[0]}\")\n"
   ]
  },
  {
   "cell_type": "code",
   "execution_count": 2,
   "id": "d8241e0a-affb-41dd-bae3-ad2eec5e0135",
   "metadata": {},
   "outputs": [],
   "source": [
    "# %%writefile requirements.txt \n",
    "\n"
   ]
  },
  {
   "cell_type": "markdown",
   "id": "84056e61-bef6-43fe-ad36-10064d5d8faa",
   "metadata": {},
   "source": [
    "**Insert link of your App here.**"
   ]
  },
  {
   "cell_type": "code",
   "execution_count": null,
   "id": "41cfb03c-cf18-4577-9968-c099dee823df",
   "metadata": {},
   "outputs": [],
   "source": []
  }
 ],
 "metadata": {
  "kernelspec": {
   "display_name": "Python 3",
   "language": "python",
   "name": "python3"
  },
  "language_info": {
   "codemirror_mode": {
    "name": "ipython",
    "version": 3
   },
   "file_extension": ".py",
   "mimetype": "text/x-python",
   "name": "python",
   "nbconvert_exporter": "python",
   "pygments_lexer": "ipython3",
   "version": "3.11.5"
  }
 },
 "nbformat": 4,
 "nbformat_minor": 5
}
